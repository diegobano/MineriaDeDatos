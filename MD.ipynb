{
 "cells": [
  {
   "cell_type": "code",
   "execution_count": 47,
   "metadata": {
    "collapsed": false
   },
   "outputs": [],
   "source": [
    "import matplotlib.pyplot as plt\n",
    "import numpy as np\n",
    "import pandas as pnd\n",
    "from sklearn import tree\n",
    "from sklearn.model_selection import cross_val_score\n",
    "from sklearn.cluster import KMeans\n",
    "from scipy.spatial.distance import cdist\n",
    "import pydotplus\n",
    "from sklearn.ensemble import RandomForestClassifier, RandomForestRegressor\n",
    "from sklearn.dummy import DummyClassifier, DummyRegressor"
   ]
  },
  {
   "cell_type": "code",
   "execution_count": 37,
   "metadata": {
    "collapsed": false
   },
   "outputs": [],
   "source": [
    "path = \"C:/Users/Diego/PycharmProjects/MD/\"\n",
    "\n",
    "carreras = pnd.read_excel(path + \"carreras2017.xlsx\")\n",
    "empleabilidad = pnd.read_excel(path + \"empleabilidadingresos2017.xlsx\")\n",
    "\n",
    "new_names_empleabilidad = empleabilidad.columns.values\n",
    "new_names_carreras = carreras.columns.values\n",
    "new_names_empleabilidad[1] = 'Nombre institución'\n",
    "\n",
    "for i in range(len(new_names_empleabilidad)):\n",
    "    new_names_empleabilidad[i] = new_names_empleabilidad[i].strip().lower().replace(\" \", \"_\").replace(\"á\", \"a\").replace(\"é\", \"e\").replace(\"í\", \"i\").replace(\"ó\", \"o\").replace(\"ú\",\"u\").replace(\"ñ\", \"n\")\n",
    "for i in range(len(new_names_carreras)):\n",
    "    new_names_carreras[i] = new_names_carreras[i].strip().lower().replace(\" \", \"_\").replace(\"á\", \"a\").replace(\"é\", \"e\").replace(\"í\", \"i\").replace(\"ó\", \"o\").replace(\"ú\",\"u\").replace(\"ñ\", \"n\")\n",
    "    \n",
    "empleabilidad.columns = new_names_empleabilidad\n",
    "carreras.columns = new_names_carreras\n",
    "\n",
    "carreras['nombre_institucion'] = carreras['nombre_institucion'].apply(lambda x: x.replace(\" \", \"_\").replace(\"á\", \"a\").replace(\"é\", \"e\").replace(\"í\", \"i\").replace(\"ó\", \"o\").replace(\"ú\",\"u\").replace(\"ñ\", \"n\").upper())\n",
    "carreras['nombre_carrera'] = carreras['nombre_carrera'].apply(lambda x: x.replace(\" \", \"_\").replace(\"á\", \"a\").replace(\"é\", \"e\").replace(\"í\", \"i\").replace(\"ó\", \"o\").replace(\"ú\",\"u\").replace(\"ñ\", \"n\").upper())\n",
    "\n",
    "carreras['id'] = carreras['nombre_institucion'] + '-' + carreras['nombre_carrera']\n",
    "\n",
    "# Quitar espacios y tildes, dejar todo en mayúscula\n",
    "empleabilidad['nombre_institucion'] = empleabilidad['nombre_institucion'].apply(lambda x: x.replace(\" \", \"_\").replace(\"á\", \"a\").replace(\"é\", \"e\").replace(\"í\", \"i\").replace(\"ó\", \"o\").replace(\"ú\",\"u\").replace(\"ñ\", \"n\").upper())\n",
    "empleabilidad['nombre_carrera'] = empleabilidad['nombre_carrera'].apply(lambda x: x.replace(\" \", \"_\").replace(\"á\", \"a\").replace(\"é\", \"e\").replace(\"í\", \"i\").replace(\"ó\", \"o\").replace(\"ú\",\"u\").replace(\"ñ\", \"n\").upper())\n",
    "\n",
    "empleabilidad['id'] = empleabilidad['nombre_institucion'] + '-' + empleabilidad['nombre_carrera']"
   ]
  },
  {
   "cell_type": "code",
   "execution_count": 4,
   "metadata": {
    "collapsed": false,
    "scrolled": false
   },
   "outputs": [
    {
     "name": "stdout",
     "output_type": "stream",
     "text": [
      "Atributos empleabilidad:\n",
      " Index(['tipo_de_institucion', 'nombre_institucion', 'area',\n",
      "       'acreditacion_de_la_institucion_(datos_al_5_de_dicimebre_de_2016)',\n",
      "       'nombre_carrera', '%_alumnos_de_establecimientos_subvencionados',\n",
      "       'retencion_1er_ano', 'duracion_real_(semestres)',\n",
      "       'empleabilidad_al_1er_ano', 'ingreso_promedio_al_4°_ano_de_titulacion',\n",
      "       'nombre_carrera_generica', 'ingreso_promedio_al_4°_ano', 'id'],\n",
      "      dtype='object')\n",
      "Atributos carreras:\n",
      " Index(['nombre_institucion', 'nombre_carrera', 'arancel_anual_2017',\n",
      "       'costo_de_titulacion', 'duracion_formal', 'nivel_carrera',\n",
      "       'matricula_1er_ano__femenina_2016', 'matricula_1er_ano_masculina_2016',\n",
      "       'matricula_1er_ano_2016', 'municipal', 'particular_subvencionado',\n",
      "       'particular_pagado', 'titulacion_femenina_2015',\n",
      "       'titlacion_masculna_2015', 'titulacion_total_2015',\n",
      "       'promedio_psu_2016_de_matricula_1er_ano_2016',\n",
      "       'promedio_nem_2016_de_matricula_2016', 'id'],\n",
      "      dtype='object')\n",
      "3486\n",
      "1641\n",
      "float64\n"
     ]
    }
   ],
   "source": [
    "print(\"Atributos empleabilidad:\\n\",empleabilidad.keys())\n",
    "print(\"Atributos carreras:\\n\", carreras.keys())\n",
    "\n",
    "print(len(carreras['id'].unique()))\n",
    "print(len(empleabilidad['id'].unique()))\n",
    "\n",
    "print(carreras['promedio_psu_2016_de_matricula_1er_ano_2016'].dtype)"
   ]
  },
  {
   "cell_type": "code",
   "execution_count": 5,
   "metadata": {
    "collapsed": false
   },
   "outputs": [
    {
     "name": "stdout",
     "output_type": "stream",
     "text": [
      "2891\n",
      "2891\n"
     ]
    }
   ],
   "source": [
    "filtrado = carreras[carreras['matricula_1er_ano_2016'] > 0]\n",
    "filtrado = filtrado.fillna(0)\n",
    "\n",
    "filtrado_empleabilidad = empleabilidad[empleabilidad['ingreso_promedio_al_4°_ano'] > 0]\n",
    "filtrado_empleabilidad = filtrado_empleabilidad.fillna(0)\n",
    "\n",
    "del filtrado['nombre_carrera']\n",
    "del filtrado['nombre_institucion']\n",
    "del filtrado_empleabilidad['nombre_carrera']\n",
    "del filtrado_empleabilidad['nombre_institucion']\n",
    "\n",
    "def acreditacion(valor):\n",
    "    if valor == 'No':\n",
    "        return 0\n",
    "    return int(valor[0])\n",
    "\n",
    "def sueldos(valor):\n",
    "    if 0 <= valor <= 650000:\n",
    "        return 0\n",
    "    elif 650000 < valor <= 950000:\n",
    "        return 1\n",
    "    elif 950000 < valor <= 1250000:\n",
    "        return 2\n",
    "    elif 1250000 < valor <= 1550000:\n",
    "        return 3\n",
    "    elif 1550000 < valor <= 1850000:\n",
    "        return 4\n",
    "    elif 1850000 < valor <= 2150000:\n",
    "        return 5\n",
    "    else:\n",
    "        return 6\n",
    "    \n",
    "def empleabilidad(valor):\n",
    "    if valor < 0.6:\n",
    "        return 0\n",
    "\n",
    "filtrado_empleabilidad['acreditacion_de_la_institucion_(datos_al_5_de_dicimebre_de_2016)'] = \\\n",
    "filtrado_empleabilidad['acreditacion_de_la_institucion_(datos_al_5_de_dicimebre_de_2016)'].apply(acreditacion)\n",
    "filtrado_empleabilidad['ingreso_promedio_al_4°_ano'] = filtrado_empleabilidad['ingreso_promedio_al_4°_ano'].apply(sueldos)\n",
    "\n",
    "filtrado_c = filtrado.copy()\n",
    "filtrado_empleabilidad_c = filtrado_empleabilidad.copy()\n",
    "\n",
    "llaves = filtrado.keys()\n",
    "for j in range(len(llaves)):\n",
    "    if filtrado[llaves[j]].dtype == 'int64' or filtrado[llaves[j]].dtype == 'float64':\n",
    "        continue\n",
    "    if llaves[j] in ['id']:\n",
    "        continue\n",
    "    values = filtrado[llaves[j]].unique()\n",
    "    dic = {}\n",
    "    for i in range(len(values)):\n",
    "        dic[values[i]] = i\n",
    "\n",
    "    filtrado[llaves[j]] = filtrado[llaves[j]].apply(lambda x: dic[x])\n",
    "    \n",
    "llaves = filtrado_empleabilidad.keys()\n",
    "for j in range(len(llaves)):\n",
    "    if filtrado_empleabilidad[llaves[j]].dtype == 'int64' or filtrado_empleabilidad[llaves[j]].dtype == 'float64':\n",
    "        continue\n",
    "    if llaves[j] in ['id']:\n",
    "        continue\n",
    "    values = filtrado_empleabilidad[llaves[j]].unique()\n",
    "    dic = {}\n",
    "    for i in range(len(values)):\n",
    "        dic[values[i]] = i\n",
    "\n",
    "    filtrado_empleabilidad[llaves[j]] = filtrado_empleabilidad[llaves[j]].apply(lambda x: dic[x])\n",
    "    \n",
    "# empleabilidad: acreditacion, tipo, area, del %weas, \n",
    "\n",
    "agrupado = filtrado.groupby(['id'])\n",
    "final = agrupado.agg({'arancel_anual_2017' : np.mean,\n",
    "                      'costo_de_titulacion' : np.mean,\n",
    "                      'duracion_formal' : np.mean,\n",
    "                      'matricula_1er_ano__femenina_2016' : np.sum,\n",
    "                      'matricula_1er_ano_masculina_2016' : np.sum,\n",
    "                      'matricula_1er_ano_2016' : np.sum,\n",
    "                      'titulacion_femenina_2015' : np.sum,\n",
    "                      'titlacion_masculna_2015' : np.sum,\n",
    "                      'titulacion_total_2015' : np.sum,\n",
    "                      'municipal' : np.mean,\n",
    "                      'particular_subvencionado' : np.mean,\n",
    "                      'particular_pagado' : np.mean,\n",
    "                      'promedio_psu_2016_de_matricula_1er_ano_2016' : np.mean,\n",
    "                      'promedio_nem_2016_de_matricula_2016' : np.mean,\n",
    "                      'nivel_carrera' : np.mean\n",
    "                     }).reset_index()\n",
    "print(len(filtrado['id'].unique()))\n",
    "print(len(final))"
   ]
  },
  {
   "cell_type": "code",
   "execution_count": 6,
   "metadata": {
    "collapsed": false
   },
   "outputs": [],
   "source": [
    "filtrado_c.to_excel(\"filtrado_carreras.xlsx\")\n",
    "filtrado_empleabilidad_c.to_excel(\"filtrado_empleabilidad.xlsx\")\n",
    "\n",
    "fusion_c = pnd.merge(filtrado_empleabilidad_c, filtrado_c, on='id', how='inner')\n",
    "\n",
    "fusion_c.to_excel(\"filtrado_fusion.xlsx\")"
   ]
  },
  {
   "cell_type": "code",
   "execution_count": 6,
   "metadata": {
    "collapsed": false
   },
   "outputs": [
    {
     "name": "stdout",
     "output_type": "stream",
     "text": [
      "[1 0]\n",
      "[3 0 6 4 5 7 2]\n"
     ]
    }
   ],
   "source": [
    "print(final['nivel_carrera'].unique())\n",
    "print(filtrado_empleabilidad['acreditacion_de_la_institucion_(datos_al_5_de_dicimebre_de_2016)'].unique())"
   ]
  },
  {
   "cell_type": "code",
   "execution_count": 32,
   "metadata": {
    "collapsed": false,
    "scrolled": true
   },
   "outputs": [
    {
     "name": "stdout",
     "output_type": "stream",
     "text": [
      "Index(['tipo_de_institucion', 'area',\n",
      "       'acreditacion_de_la_institucion_(datos_al_5_de_dicimebre_de_2016)',\n",
      "       '%_alumnos_de_establecimientos_subvencionados', 'retencion_1er_ano',\n",
      "       'duracion_real_(semestres)', 'empleabilidad_al_1er_ano',\n",
      "       'ingreso_promedio_al_4°_ano_de_titulacion', 'nombre_carrera_generica',\n",
      "       'ingreso_promedio_al_4°_ano', 'arancel_anual_2017',\n",
      "       'costo_de_titulacion', 'duracion_formal', 'nivel_carrera',\n",
      "       'matricula_1er_ano__femenina_2016', 'matricula_1er_ano_masculina_2016',\n",
      "       'matricula_1er_ano_2016', 'municipal', 'particular_subvencionado',\n",
      "       'particular_pagado', 'titulacion_femenina_2015',\n",
      "       'titlacion_masculna_2015', 'titulacion_total_2015',\n",
      "       'promedio_psu_2016_de_matricula_1er_ano_2016',\n",
      "       'promedio_nem_2016_de_matricula_2016'],\n",
      "      dtype='object')\n",
      "Index(['tipo_de_institucion', 'area',\n",
      "       'acreditacion_de_la_institucion_(datos_al_5_de_dicimebre_de_2016)',\n",
      "       '%_alumnos_de_establecimientos_subvencionados', 'retencion_1er_ano',\n",
      "       'duracion_real_(semestres)', 'nombre_carrera_generica',\n",
      "       'arancel_anual_2017', 'costo_de_titulacion', 'duracion_formal',\n",
      "       'nivel_carrera', 'matricula_1er_ano__femenina_2016',\n",
      "       'matricula_1er_ano_masculina_2016', 'matricula_1er_ano_2016',\n",
      "       'municipal', 'particular_subvencionado', 'particular_pagado',\n",
      "       'titulacion_femenina_2015', 'titlacion_masculna_2015',\n",
      "       'titulacion_total_2015', 'promedio_psu_2016_de_matricula_1er_ano_2016',\n",
      "       'promedio_nem_2016_de_matricula_2016'],\n",
      "      dtype='object')\n"
     ]
    }
   ],
   "source": [
    "fusion = pnd.merge(filtrado_empleabilidad, filtrado, on='id', how='inner')\n",
    "\n",
    "ag = fusion.groupby(['id'])\n",
    "ds = ag.first().copy()\n",
    "print(ds.keys())\n",
    "\n",
    "y = ds['ingreso_promedio_al_4°_ano']\n",
    "y2 = ds['empleabilidad_al_1er_ano']\n",
    "del ds['ingreso_promedio_al_4°_ano']\n",
    "del ds['ingreso_promedio_al_4°_ano_de_titulacion']\n",
    "del ds['empleabilidad_al_1er_ano']\n",
    "X = ds\n",
    "print(X.keys())"
   ]
  },
  {
   "cell_type": "code",
   "execution_count": 40,
   "metadata": {
    "collapsed": false
   },
   "outputs": [
    {
     "name": "stdout",
     "output_type": "stream",
     "text": [
      "[ 0.26507538  0.26923077  0.29010239  0.33333333  0.33910891  0.363047\n",
      "  0.36363636  0.36619718  0.36898396  0.38150289  0.39150943  0.3988764\n",
      "  0.40728477  0.4140625   0.42290749  0.42647059  0.43085881  0.43137255\n",
      "  0.43512974  0.44347826  0.44491525  0.45625     0.46296296  0.4704698\n",
      "  0.47949527  0.48186528  0.48314607  0.49579832  0.5         0.50869565\n",
      "  0.51724138  0.51785714  0.52222222  0.52747253  0.53146853  0.53296703\n",
      "  0.53448276  0.53571429  0.53703704  0.53846154  0.53939394  0.54181185\n",
      "  0.54424779  0.54474097  0.54545455  0.54847645  0.55078125  0.55491329\n",
      "  0.55555556  0.55737705  0.55925156  0.56326531  0.56628057  0.56643357\n",
      "  0.57        0.57009346  0.57317073  0.57352941  0.57427938  0.57534247\n",
      "  0.57777778  0.58020478  0.58354756  0.58762887  0.59090909  0.59183673\n",
      "  0.596       0.59624413  0.59633028  0.5974026   0.60084034  0.60897436\n",
      "  0.60984848  0.61267606  0.615625    0.61870504  0.6255144   0.62790698\n",
      "  0.63091483  0.63207547  0.63313609  0.63400236  0.6350365   0.63510393\n",
      "  0.63679245  0.64        0.64035088  0.640625    0.6440678   0.64550265\n",
      "  0.64583333  0.64615385  0.6472973   0.64761905  0.64846416  0.64921466\n",
      "  0.64948454  0.65079365  0.65322581  0.65333333  0.656       0.65714286\n",
      "  0.65777778  0.65909091  0.66016713  0.66062254  0.66071429  0.66146993\n",
      "  0.66171004  0.66499162  0.66666667  0.66932271  0.67114094  0.671875\n",
      "  0.672       0.67346939  0.67394958  0.67883212  0.6846473   0.68571429\n",
      "  0.68595041  0.68639053  0.68721973  0.6875      0.6884273   0.69230769\n",
      "  0.69333333  0.69396552  0.69495413  0.69677419  0.6969697   0.6988417\n",
      "  0.70023484  0.70114943  0.70204082  0.70430733  0.70454545  0.70588235\n",
      "  0.70689655  0.70794824  0.70930233  0.71084337  0.71264368  0.71428571\n",
      "  0.71491713  0.71551724  0.71604938  0.71755725  0.71794872  0.71830986\n",
      "  0.71841155  0.71875     0.71929825  0.72016461  0.72018349  0.72058824\n",
      "  0.72173913  0.72307692  0.725       0.72566372  0.72571429  0.72727273\n",
      "  0.72794118  0.72847682  0.72903226  0.72928177  0.73015873  0.73394495\n",
      "  0.73417722  0.73584906  0.73737374  0.73863636  0.73888889  0.73913043\n",
      "  0.74074074  0.74097665  0.74117647  0.74186047  0.74271845  0.74311927\n",
      "  0.74369748  0.74489796  0.74603175  0.74698795  0.74725275  0.74736842\n",
      "  0.74742268  0.74766355  0.74852071  0.74873096  0.74898785  0.75\n",
      "  0.75141243  0.75172414  0.752       0.75308642  0.75362319  0.75490196\n",
      "  0.75590551  0.75726744  0.75736041  0.75862069  0.76        0.76047904\n",
      "  0.76136364  0.76344086  0.76363636  0.76439791  0.76595745  0.76728499\n",
      "  0.76744186  0.768       0.76804124  0.76886792  0.76896552  0.76923077\n",
      "  0.76969697  0.76973684  0.77018634  0.77027027  0.77040816  0.7704918\n",
      "  0.77108434  0.77325581  0.77477477  0.775       0.77586207  0.7761194\n",
      "  0.77692308  0.77725118  0.77777778  0.7787234   0.77941176  0.77956989\n",
      "  0.77966102  0.78070175  0.78125     0.78145695  0.78169014  0.78205128\n",
      "  0.78225806  0.7826087   0.78285714  0.78289474  0.78294574  0.78347578\n",
      "  0.7839196   0.78409091  0.78481013  0.78485902  0.78527607  0.78616352\n",
      "  0.78634361  0.78666667  0.78688525  0.78698225  0.78723404  0.78730703\n",
      "  0.78787879  0.78947368  0.79166667  0.79194631  0.792       0.79255319\n",
      "  0.79444444  0.79591837  0.79677207  0.7972973   0.79816514  0.79929577\n",
      "  0.8         0.80116959  0.80232558  0.80246914  0.80357143  0.80368098\n",
      "  0.80434783  0.80487805  0.80530973  0.80565371  0.8057554   0.80686695\n",
      "  0.80769231  0.80851064  0.80906921  0.80938416  0.80987654  0.80991736\n",
      "  0.81081081  0.81132075  0.81165919  0.8128655   0.81355932  0.81369863\n",
      "  0.81415929  0.81473684  0.81547619  0.81642512  0.81754386  0.81785714\n",
      "  0.81818182  0.81827017  0.81914894  0.81944444  0.81967213  0.82\n",
      "  0.82022472  0.82051282  0.8212766   0.82154882  0.82208589  0.82248521\n",
      "  0.82258065  0.82303371  0.82323232  0.82352941  0.82432432  0.82641509\n",
      "  0.82644628  0.82692308  0.82758621  0.828125    0.82822086  0.82874618\n",
      "  0.82926829  0.82945736  0.82978723  0.83018868  0.83064516  0.83098592\n",
      "  0.83233533  0.83333333  0.83384615  0.83544304  0.83636364  0.83661972\n",
      "  0.83701657  0.83783784  0.83823529  0.83832335  0.83854167  0.83909668\n",
      "  0.83962264  0.83974359  0.83988764  0.84        0.84057971  0.84070796\n",
      "  0.8411215   0.84210526  0.84249084  0.84259259  0.8436134   0.84375\n",
      "  0.8438949   0.844       0.84516129  0.84558824  0.84660767  0.84761905\n",
      "  0.84840764  0.84848485  0.8487395   0.84883721  0.84946237  0.84960422\n",
      "  0.85144928  0.85148515  0.85185185  0.85234899  0.85263158  0.85276074\n",
      "  0.85294118  0.85423729  0.85454545  0.85470085  0.8547486   0.85483871\n",
      "  0.85526316  0.85572139  0.85583224  0.85632184  0.85714286  0.85795455\n",
      "  0.85863874  0.85915493  0.85974026  0.86100386  0.86125654  0.86255924\n",
      "  0.86357786  0.86363636  0.86403509  0.86486486  0.86507937  0.86516854\n",
      "  0.86545455  0.86607143  0.86639676  0.86666667  0.86710963  0.8677686\n",
      "  0.8679868   0.86842105  0.86880466  0.86923077  0.86934673  0.86988848\n",
      "  0.87012987  0.87037037  0.87041037  0.87078652  0.87121212  0.87142857\n",
      "  0.87179487  0.87254902  0.87272727  0.87313433  0.87323944  0.87341772\n",
      "  0.87410714  0.87421384  0.87447699  0.875       0.87639485  0.87640449\n",
      "  0.87755102  0.87777778  0.87804878  0.87857143  0.87887324  0.87931034\n",
      "  0.88043478  0.88050314  0.88059701  0.88135593  0.88188976  0.88333333\n",
      "  0.88349515  0.88356164  0.88392857  0.88405797  0.88461538  0.88505747\n",
      "  0.8853211   0.88541667  0.88613861  0.88636364  0.88655462  0.88688946\n",
      "  0.88764045  0.88888889  0.88907015  0.89230769  0.89320388  0.89361702\n",
      "  0.89376443  0.89377289  0.89423077  0.89473684  0.89552239  0.89565217\n",
      "  0.89583333  0.89632107  0.89666137  0.89783282  0.89784173  0.89908257\n",
      "  0.9         0.9009009   0.90117647  0.90151515  0.9017341   0.90277778\n",
      "  0.90298507  0.90322581  0.90344828  0.90366972  0.90410959  0.90434783\n",
      "  0.9044586   0.9047619   0.90526316  0.90589888  0.90598291  0.90625\n",
      "  0.90648567  0.90659341  0.90909091  0.90940767  0.91011236  0.91034483\n",
      "  0.91071429  0.91092437  0.91240876  0.91304348  0.9137931   0.91411043\n",
      "  0.91441441  0.91463415  0.91470588  0.9148265   0.91489362  0.91505792\n",
      "  0.91588785  0.91612903  0.91616766  0.91666667  0.91761364  0.91855204\n",
      "  0.91891892  0.91935484  0.92        0.92011834  0.92016807  0.92063492\n",
      "  0.92152918  0.9218241   0.921875    0.92207792  0.9223301   0.92352941\n",
      "  0.92361111  0.92380952  0.92424242  0.9245283   0.92461197  0.92467532\n",
      "  0.92482916  0.9251497   0.92542373  0.9255441   0.92631579  0.92753623\n",
      "  0.92797119  0.92924528  0.92982456  0.93046358  0.93081761  0.93085106\n",
      "  0.93110647  0.93164062  0.93181818  0.93197279  0.93233083  0.93248945\n",
      "  0.93258427  0.93283582  0.93333333  0.93382353  0.93492696  0.93506494\n",
      "  0.93518519  0.93548387  0.93684211  0.93732591  0.93793103  0.93814433\n",
      "  0.93836978  0.93846154  0.93902439  0.93965517  0.93971631  0.93975904\n",
      "  0.94047619  0.94054054  0.94202899  0.94238683  0.94247788  0.94285714\n",
      "  0.94331984  0.94354839  0.94392523  0.94491525  0.94528875  0.94565217\n",
      "  0.94587629  0.94630872  0.94642857  0.94705882  0.94758065  0.94814815\n",
      "  0.94919786  0.94933333  0.94949495  0.95        0.95081967  0.95151515\n",
      "  0.95172414  0.95180723  0.95238095  0.95258621  0.95266272  0.95375723\n",
      "  0.95424837  0.95454545  0.95480226  0.95555556  0.95575221  0.95588235\n",
      "  0.95652174  0.95795796  0.95811518  0.95833333  0.95890411  0.95901639\n",
      "  0.95945946  0.95959596  0.96        0.96017699  0.960199    0.96153846\n",
      "  0.9625      0.96282528  0.96314496  0.96341463  0.96370968  0.96446701\n",
      "  0.96475771  0.96482412  0.96491228  0.96534653  0.96559633  0.96638655\n",
      "  0.96703297  0.96734694  0.96747967  0.96759259  0.96774194  0.96850394\n",
      "  0.9689441   0.96935933  0.96954315  0.97008547  0.97014925  0.97067449\n",
      "  0.97074468  0.97333333  0.97411003  0.97424893  0.97435897  0.97524752\n",
      "  0.97575758  0.97609562  0.97674419  0.97690941  0.97761194  0.97794118\n",
      "  0.98        0.98076923  0.98095238  0.98101266  0.98136646  0.98148148\n",
      "  0.98214286  0.98230088  0.98245614  0.98265896  0.98295455  0.984375\n",
      "  0.98507463  0.98606272  0.98723404  0.98735955  0.98753894  0.98918919\n",
      "  0.9893617   0.98989899  0.99043062  0.99065421  0.99074074  0.99152542\n",
      "  0.99166667  0.99180328  0.99206349  0.99333333  0.99457995  0.99487179\n",
      "  0.99559471  0.995671    1.        ]\n"
     ]
    }
   ],
   "source": [
    "llaves = y2.unique()\n",
    "llaves.sort()\n",
    "print(llaves)"
   ]
  },
  {
   "cell_type": "code",
   "execution_count": 27,
   "metadata": {
    "collapsed": false
   },
   "outputs": [
    {
     "data": {
      "text/plain": [
       "array([ 0.38815789,  0.54966887,  0.58666667,  0.50684932,  0.57931034])"
      ]
     },
     "execution_count": 27,
     "metadata": {},
     "output_type": "execute_result"
    }
   ],
   "source": [
    "clf = tree.DecisionTreeClassifier()\n",
    "\n",
    "cross_val_score(clf, X, y, cv=5)"
   ]
  },
  {
   "cell_type": "code",
   "execution_count": 28,
   "metadata": {
    "collapsed": false
   },
   "outputs": [
    {
     "data": {
      "text/plain": [
       "True"
      ]
     },
     "execution_count": 28,
     "metadata": {},
     "output_type": "execute_result"
    }
   ],
   "source": [
    "clf = clf.fit(X, y)\n",
    "\n",
    "dot_data = tree.export_graphviz(clf, out_file=None) \n",
    "graph = pydotplus.graph_from_dot_data(dot_data)\n",
    "\n",
    "graph.write_png('tree.png')"
   ]
  },
  {
   "cell_type": "code",
   "execution_count": 29,
   "metadata": {
    "collapsed": false,
    "scrolled": true
   },
   "outputs": [
    {
     "data": {
      "image/png": "[encoded data removed]",
      "text/plain": [
       "<matplotlib.figure.Figure at 0x1bcd510fd68>"
      ]
     },
     "metadata": {},
     "output_type": "display_data"
    }
   ],
   "source": [
    "# k means determine k\n",
    "distortions = []\n",
    "K = range(1,15)\n",
    "for k in K:\n",
    "    kmeanModel = KMeans(n_clusters=k).fit(X)\n",
    "    kmeanModel.fit(X)\n",
    "    distortions.append(sum(np.min(cdist(X, kmeanModel.cluster_centers_, 'euclidean'), axis=1)) / X.shape[0])\n",
    " \n",
    "# Plot the elbow\n",
    "plt.plot(K, distortions, 'bx-')\n",
    "plt.xlabel('k')\n",
    "plt.ylabel('Distortion')\n",
    "plt.title('The Elbow Method showing the optimal k')\n",
    "plt.show()"
   ]
  },
  {
   "cell_type": "code",
   "execution_count": 45,
   "metadata": {
    "collapsed": false
   },
   "outputs": [
    {
     "name": "stdout",
     "output_type": "stream",
     "text": [
      "Random forest para ingresos:\n",
      "\n",
      "tipo_de_institucion : 0.00340065392058\n",
      "area : 0.0932956320457\n",
      "acreditacion_de_la_institucion_(datos_al_5_de_dicimebre_de_2016) : 0.01327417793\n",
      "%_alumnos_de_establecimientos_subvencionados : 0.0575584595386\n",
      "retencion_1er_ano : 0.0680055996766\n",
      "duracion_real_(semestres) : 0.0448997603689\n",
      "nombre_carrera_generica : 0.0733781065682\n",
      "arancel_anual_2017 : 0.0950144743346\n",
      "costo_de_titulacion : 0.0230402084325\n",
      "duracion_formal : 0.0627709449215\n",
      "nivel_carrera : 0.00221504973624\n",
      "matricula_1er_ano__femenina_2016 : 0.042277357331\n",
      "matricula_1er_ano_masculina_2016 : 0.0542401239644\n",
      "matricula_1er_ano_2016 : 0.0294288053497\n",
      "municipal : 0.0453396009197\n",
      "particular_subvencionado : 0.0313289418208\n",
      "particular_pagado : 0.034491841918\n",
      "titulacion_femenina_2015 : 0.0369796480253\n",
      "titlacion_masculna_2015 : 0.0532796819299\n",
      "titulacion_total_2015 : 0.0362810723373\n",
      "promedio_psu_2016_de_matricula_1er_ano_2016 : 0.0608100566326\n",
      "promedio_nem_2016_de_matricula_2016 : 0.0386898022981\n",
      "\n",
      "Random forest para empleabilidad:\n",
      "\n",
      "tipo_de_institucion : 0.000420001686679\n",
      "area : 0.101654627467\n",
      "acreditacion_de_la_institucion_(datos_al_5_de_dicimebre_de_2016) : 0.00418241942709\n",
      "%_alumnos_de_establecimientos_subvencionados : 0.0422464423007\n",
      "retencion_1er_ano : 0.0315964760855\n",
      "duracion_real_(semestres) : 0.0495909955721\n",
      "nombre_carrera_generica : 0.10589258011\n",
      "arancel_anual_2017 : 0.0293353578976\n",
      "costo_de_titulacion : 0.0364217903576\n",
      "duracion_formal : 0.114522741476\n",
      "nivel_carrera : 0.101581601593\n",
      "matricula_1er_ano__femenina_2016 : 0.0789329363279\n",
      "matricula_1er_ano_masculina_2016 : 0.0380969386772\n",
      "matricula_1er_ano_2016 : 0.0149518731115\n",
      "municipal : 0.0267785057334\n",
      "particular_subvencionado : 0.0267673955354\n",
      "particular_pagado : 0.0285781209852\n",
      "titulacion_femenina_2015 : 0.0198631352606\n",
      "titlacion_masculna_2015 : 0.020318062919\n",
      "titulacion_total_2015 : 0.0131753310886\n",
      "promedio_psu_2016_de_matricula_1er_ano_2016 : 0.0778553458859\n",
      "promedio_nem_2016_de_matricula_2016 : 0.0372373205026\n"
     ]
    }
   ],
   "source": [
    "clf = RandomForestClassifier(criterion='entropy')\n",
    "clf.fit(X, y)\n",
    "print(\"Random forest para ingresos:\\n\")\n",
    "for i in range(len(X.keys())):\n",
    "    print(X.keys()[i], ':', clf.feature_importances_[i])\n",
    "    \n",
    "clf2 = RandomForestRegressor(criterion='mse')\n",
    "clf2.fit(X, y2)\n",
    "\n",
    "print(\"\\nRandom forest para empleabilidad:\\n\")\n",
    "for i in range(len(X.keys())):\n",
    "    print(X.keys()[i], ':', clf2.feature_importances_[i])\n",
    "\n"
   ]
  },
  {
   "cell_type": "code",
   "execution_count": 63,
   "metadata": {
    "collapsed": false
   },
   "outputs": [
    {
     "name": "stdout",
     "output_type": "stream",
     "text": [
      "Random forest ingresos: 0.572997874024 \n",
      "Dummy: 0.207476881796\n",
      "\n",
      "\n",
      "Random forest empleabilidad: [ 0.3673532   0.40908998  0.46930382  0.59516949  0.41885506  0.47173746\n",
      "  0.29143069  0.23423263  0.34380666  0.50079996] \n",
      "Dummy: [-0.71037078 -0.3255389  -0.00300885 -0.11706903 -0.10761475 -0.15032273\n",
      " -0.02091495 -0.26101481 -0.07876439 -0.00664317]\n"
     ]
    }
   ],
   "source": [
    "dummy = DummyClassifier()\n",
    "clf = RandomForestClassifier(criterion='entropy', n_estimators=200)\n",
    "print('Random forest ingresos:', np.mean(cross_val_score(clf, X, y, cv=10)), \"\\nDummy:\", np.mean(cross_val_score(dummy, X, y, cv=10)))\n",
    "print('\\n')\n",
    "dummy2 = DummyRegressor()\n",
    "clf2 = RandomForestRegressor(criterion='mse')\n",
    "print('Random forest empleabilidad:', cross_val_score(clf2, X, y2, cv=10), \"\\nDummy:\", cross_val_score(dummy2, X, y2, cv=10))"
   ]
  }
 ],
 "metadata": {
  "kernelspec": {
   "display_name": "Python 3",
   "language": "python",
   "name": "python3"
  },
  "language_info": {
   "codemirror_mode": {
    "name": "ipython",
    "version": 3
   },
   "file_extension": ".py",
   "mimetype": "text/x-python",
   "name": "python",
   "nbconvert_exporter": "python",
   "pygments_lexer": "ipython3",
   "version": "3.6.0"
  }
 },
 "nbformat": 4,
 "nbformat_minor": 2
}
