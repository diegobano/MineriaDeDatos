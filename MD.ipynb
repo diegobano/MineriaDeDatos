{
 "cells": [
  {
   "cell_type": "code",
   "execution_count": 18,
   "metadata": {
    "collapsed": false
   },
   "outputs": [],
   "source": [
    "import matplotlib.pyplot as plt\n",
    "import numpy as np\n",
    "import pandas as pnd\n",
    "from sklearn import tree\n",
    "from sklearn.model_selection import cross_val_score\n",
    "from sklearn.cluster import KMeans\n",
    "from scipy.spatial.distance import cdist\n",
    "import pydotplus"
   ]
  },
  {
   "cell_type": "code",
   "execution_count": 3,
   "metadata": {
    "collapsed": false
   },
   "outputs": [],
   "source": [
    "path = \"C:/Users/Diego/PycharmProjects/MD/\"\n",
    "\n",
    "carreras = pnd.read_excel(path + \"carreras2017.xlsx\")\n",
    "empleabilidad = pnd.read_excel(path + \"empleabilidadingresos2017.xlsx\")\n",
    "\n",
    "new_names_empleabilidad = empleabilidad.columns.values\n",
    "new_names_carreras = carreras.columns.values\n",
    "new_names_empleabilidad[1] = 'Nombre institución'\n",
    "\n",
    "for i in range(len(new_names_empleabilidad)):\n",
    "    new_names_empleabilidad[i] = new_names_empleabilidad[i].strip().lower().replace(\" \", \"_\").replace(\"á\", \"a\").replace(\"é\", \"e\").replace(\"í\", \"i\").replace(\"ó\", \"o\").replace(\"ú\",\"u\").replace(\"ñ\", \"n\")\n",
    "for i in range(len(new_names_carreras)):\n",
    "    new_names_carreras[i] = new_names_carreras[i].strip().lower().replace(\" \", \"_\").replace(\"á\", \"a\").replace(\"é\", \"e\").replace(\"í\", \"i\").replace(\"ó\", \"o\").replace(\"ú\",\"u\").replace(\"ñ\", \"n\")\n",
    "    \n",
    "empleabilidad.columns = new_names_empleabilidad\n",
    "carreras.columns = new_names_carreras\n",
    "\n",
    "carreras['nombre_institucion'] = carreras['nombre_institucion'].apply(lambda x: x.replace(\" \", \"_\").replace(\"á\", \"a\").replace(\"é\", \"e\").replace(\"í\", \"i\").replace(\"ó\", \"o\").replace(\"ú\",\"u\").replace(\"ñ\", \"n\").upper())\n",
    "carreras['nombre_carrera'] = carreras['nombre_carrera'].apply(lambda x: x.replace(\" \", \"_\").replace(\"á\", \"a\").replace(\"é\", \"e\").replace(\"í\", \"i\").replace(\"ó\", \"o\").replace(\"ú\",\"u\").replace(\"ñ\", \"n\").upper())\n",
    "\n",
    "carreras['id'] = carreras['nombre_institucion'] + '-' + carreras['nombre_carrera']\n",
    "\n",
    "# Quitar espacios y tildes, dejar todo en mayúscula\n",
    "empleabilidad['nombre_institucion'] = empleabilidad['nombre_institucion'].apply(lambda x: x.replace(\" \", \"_\").replace(\"á\", \"a\").replace(\"é\", \"e\").replace(\"í\", \"i\").replace(\"ó\", \"o\").replace(\"ú\",\"u\").replace(\"ñ\", \"n\").upper())\n",
    "empleabilidad['nombre_carrera'] = empleabilidad['nombre_carrera'].apply(lambda x: x.replace(\" \", \"_\").replace(\"á\", \"a\").replace(\"é\", \"e\").replace(\"í\", \"i\").replace(\"ó\", \"o\").replace(\"ú\",\"u\").replace(\"ñ\", \"n\").upper())\n",
    "\n",
    "empleabilidad['id'] = empleabilidad['nombre_institucion'] + '-' + empleabilidad['nombre_carrera']"
   ]
  },
  {
   "cell_type": "code",
   "execution_count": 4,
   "metadata": {
    "collapsed": false,
    "scrolled": false
   },
   "outputs": [
    {
     "name": "stdout",
     "output_type": "stream",
     "text": [
      "Atributos empleabilidad:\n",
      " Index(['tipo_de_institucion', 'nombre_institucion', 'area',\n",
      "       'acreditacion_de_la_institucion_(datos_al_5_de_dicimebre_de_2016)',\n",
      "       'nombre_carrera', '%_alumnos_de_establecimientos_subvencionados',\n",
      "       'retencion_1er_ano', 'duracion_real_(semestres)',\n",
      "       'empleabilidad_al_1er_ano', 'ingreso_promedio_al_4°_ano_de_titulacion',\n",
      "       'nombre_carrera_generica', 'ingreso_promedio_al_4°_ano', 'id'],\n",
      "      dtype='object')\n",
      "Atributos carreras:\n",
      " Index(['nombre_institucion', 'nombre_carrera', 'arancel_anual_2017',\n",
      "       'costo_de_titulacion', 'duracion_formal', 'nivel_carrera',\n",
      "       'matricula_1er_ano__femenina_2016', 'matricula_1er_ano_masculina_2016',\n",
      "       'matricula_1er_ano_2016', 'municipal', 'particular_subvencionado',\n",
      "       'particular_pagado', 'titulacion_femenina_2015',\n",
      "       'titlacion_masculna_2015', 'titulacion_total_2015',\n",
      "       'promedio_psu_2016_de_matricula_1er_ano_2016',\n",
      "       'promedio_nem_2016_de_matricula_2016', 'id'],\n",
      "      dtype='object')\n",
      "3486\n",
      "1641\n",
      "float64\n"
     ]
    }
   ],
   "source": [
    "print(\"Atributos empleabilidad:\\n\",empleabilidad.keys())\n",
    "print(\"Atributos carreras:\\n\", carreras.keys())\n",
    "\n",
    "print(len(carreras['id'].unique()))\n",
    "print(len(empleabilidad['id'].unique()))\n",
    "\n",
    "print(carreras['promedio_psu_2016_de_matricula_1er_ano_2016'].dtype)"
   ]
  },
  {
   "cell_type": "code",
   "execution_count": 5,
   "metadata": {
    "collapsed": false
   },
   "outputs": [
    {
     "name": "stdout",
     "output_type": "stream",
     "text": [
      "2891\n",
      "2891\n"
     ]
    }
   ],
   "source": [
    "filtrado = carreras[carreras['matricula_1er_ano_2016'] > 0]\n",
    "filtrado = filtrado.fillna(0)\n",
    "\n",
    "filtrado_empleabilidad = empleabilidad[empleabilidad['ingreso_promedio_al_4°_ano'] > 0]\n",
    "filtrado_empleabilidad = filtrado_empleabilidad.fillna(0)\n",
    "\n",
    "del filtrado['nombre_carrera']\n",
    "del filtrado['nombre_institucion']\n",
    "del filtrado_empleabilidad['nombre_carrera']\n",
    "del filtrado_empleabilidad['nombre_institucion']\n",
    "\n",
    "def acreditacion(valor):\n",
    "    if valor == 'No':\n",
    "        return 0\n",
    "    return int(valor[0])\n",
    "\n",
    "def sueldos(valor):\n",
    "    if 0 <= valor <= 650000:\n",
    "        return 0\n",
    "    elif 650000 < valor <= 950000:\n",
    "        return 1\n",
    "    elif 950000 < valor <= 1250000:\n",
    "        return 2\n",
    "    elif 1250000 < valor <= 1550000:\n",
    "        return 3\n",
    "    elif 1550000 < valor <= 1850000:\n",
    "        return 4\n",
    "    elif 1850000 < valor <= 2150000:\n",
    "        return 5\n",
    "    else:\n",
    "        return 6\n",
    "\n",
    "filtrado_empleabilidad['acreditacion_de_la_institucion_(datos_al_5_de_dicimebre_de_2016)'] = \\\n",
    "filtrado_empleabilidad['acreditacion_de_la_institucion_(datos_al_5_de_dicimebre_de_2016)'].apply(acreditacion)\n",
    "filtrado_empleabilidad['ingreso_promedio_al_4°_ano'] = filtrado_empleabilidad['ingreso_promedio_al_4°_ano'].apply(sueldos)\n",
    "\n",
    "filtrado_c = filtrado.copy()\n",
    "filtrado_empleabilidad_c = filtrado_empleabilidad.copy()\n",
    "\n",
    "llaves = filtrado.keys()\n",
    "for j in range(len(llaves)):\n",
    "    if filtrado[llaves[j]].dtype == 'int64' or filtrado[llaves[j]].dtype == 'float64':\n",
    "        continue\n",
    "    if llaves[j] in ['id']:\n",
    "        continue\n",
    "    values = filtrado[llaves[j]].unique()\n",
    "    dic = {}\n",
    "    for i in range(len(values)):\n",
    "        dic[values[i]] = i\n",
    "\n",
    "    filtrado[llaves[j]] = filtrado[llaves[j]].apply(lambda x: dic[x])\n",
    "    \n",
    "llaves = filtrado_empleabilidad.keys()\n",
    "for j in range(len(llaves)):\n",
    "    if filtrado_empleabilidad[llaves[j]].dtype == 'int64' or filtrado_empleabilidad[llaves[j]].dtype == 'float64':\n",
    "        continue\n",
    "    if llaves[j] in ['id']:\n",
    "        continue\n",
    "    values = filtrado_empleabilidad[llaves[j]].unique()\n",
    "    dic = {}\n",
    "    for i in range(len(values)):\n",
    "        dic[values[i]] = i\n",
    "\n",
    "    filtrado_empleabilidad[llaves[j]] = filtrado_empleabilidad[llaves[j]].apply(lambda x: dic[x])\n",
    "    \n",
    "# empleabilidad: acreditacion, tipo, area, del %weas, \n",
    "\n",
    "agrupado = filtrado.groupby(['id'])\n",
    "final = agrupado.agg({'arancel_anual_2017' : np.mean,\n",
    "                      'costo_de_titulacion' : np.mean,\n",
    "                      'duracion_formal' : np.mean,\n",
    "                      'matricula_1er_ano__femenina_2016' : np.sum,\n",
    "                      'matricula_1er_ano_masculina_2016' : np.sum,\n",
    "                      'matricula_1er_ano_2016' : np.sum,\n",
    "                      'titulacion_femenina_2015' : np.sum,\n",
    "                      'titlacion_masculna_2015' : np.sum,\n",
    "                      'titulacion_total_2015' : np.sum,\n",
    "                      'municipal' : np.mean,\n",
    "                      'particular_subvencionado' : np.mean,\n",
    "                      'particular_pagado' : np.mean,\n",
    "                      'promedio_psu_2016_de_matricula_1er_ano_2016' : np.mean,\n",
    "                      'promedio_nem_2016_de_matricula_2016' : np.mean,\n",
    "                      'nivel_carrera' : np.mean\n",
    "                     }).reset_index()\n",
    "print(len(filtrado['id'].unique()))\n",
    "print(len(final))"
   ]
  },
  {
   "cell_type": "code",
   "execution_count": 6,
   "metadata": {
    "collapsed": false
   },
   "outputs": [],
   "source": [
    "filtrado_c.to_excel(\"filtrado_carreras.xlsx\")\n",
    "filtrado_empleabilidad_c.to_excel(\"filtrado_empleabilidad.xlsx\")\n",
    "\n",
    "fusion_c = pnd.merge(filtrado_empleabilidad_c, filtrado_c, on='id', how='inner')\n",
    "\n",
    "fusion_c.to_excel(\"filtrado_fusion.xlsx\")"
   ]
  },
  {
   "cell_type": "code",
   "execution_count": 7,
   "metadata": {
    "collapsed": false
   },
   "outputs": [
    {
     "name": "stdout",
     "output_type": "stream",
     "text": [
      "[1 0]\n",
      "[3 0 6 4 5 7 2]\n"
     ]
    }
   ],
   "source": [
    "print(final['nivel_carrera'].unique())\n",
    "print(filtrado_empleabilidad['acreditacion_de_la_institucion_(datos_al_5_de_dicimebre_de_2016)'].unique())"
   ]
  },
  {
   "cell_type": "code",
   "execution_count": 8,
   "metadata": {
    "collapsed": false,
    "scrolled": true
   },
   "outputs": [
    {
     "name": "stdout",
     "output_type": "stream",
     "text": [
      "Index(['tipo_de_institucion', 'area',\n",
      "       'acreditacion_de_la_institucion_(datos_al_5_de_dicimebre_de_2016)',\n",
      "       '%_alumnos_de_establecimientos_subvencionados', 'retencion_1er_ano',\n",
      "       'duracion_real_(semestres)', 'empleabilidad_al_1er_ano',\n",
      "       'ingreso_promedio_al_4°_ano_de_titulacion', 'nombre_carrera_generica',\n",
      "       'ingreso_promedio_al_4°_ano', 'arancel_anual_2017',\n",
      "       'costo_de_titulacion', 'duracion_formal', 'nivel_carrera',\n",
      "       'matricula_1er_ano__femenina_2016', 'matricula_1er_ano_masculina_2016',\n",
      "       'matricula_1er_ano_2016', 'municipal', 'particular_subvencionado',\n",
      "       'particular_pagado', 'titulacion_femenina_2015',\n",
      "       'titlacion_masculna_2015', 'titulacion_total_2015',\n",
      "       'promedio_psu_2016_de_matricula_1er_ano_2016',\n",
      "       'promedio_nem_2016_de_matricula_2016'],\n",
      "      dtype='object')\n"
     ]
    }
   ],
   "source": [
    "fusion = pnd.merge(filtrado_empleabilidad, filtrado, on='id', how='inner')\n",
    "\n",
    "ag = fusion.groupby(['id'])\n",
    "ds = ag.first().copy()\n",
    "print(ds.keys())\n",
    "\n",
    "y = ds['ingreso_promedio_al_4°_ano']\n",
    "del ds['ingreso_promedio_al_4°_ano']\n",
    "X = ds\n"
   ]
  },
  {
   "cell_type": "code",
   "execution_count": 9,
   "metadata": {
    "collapsed": false
   },
   "outputs": [
    {
     "data": {
      "text/plain": [
       "array([ 0.96052632,  0.96688742,  0.98      ,  0.98630137,  0.95862069])"
      ]
     },
     "execution_count": 9,
     "metadata": {},
     "output_type": "execute_result"
    }
   ],
   "source": [
    "clf = tree.DecisionTreeClassifier()\n",
    "\n",
    "cross_val_score(clf, X, y, cv=5)"
   ]
  },
  {
   "cell_type": "code",
   "execution_count": 12,
   "metadata": {
    "collapsed": false
   },
   "outputs": [
    {
     "data": {
      "text/plain": [
       "True"
      ]
     },
     "execution_count": 12,
     "metadata": {},
     "output_type": "execute_result"
    }
   ],
   "source": [
    "clf = clf.fit(X, y)\n",
    "\n",
    "dot_data = tree.export_graphviz(clf, out_file=None) \n",
    "graph = pydotplus.graph_from_dot_data(dot_data)\n",
    "\n",
    "graph.write_png('tree.png')"
   ]
  },
  {
   "cell_type": "code",
   "execution_count": 20,
   "metadata": {
    "collapsed": false
   },
   "outputs": [
    {
     "data": {
      "image/png": "[encoded data removed]",
      "text/plain": [
       "<matplotlib.figure.Figure at 0x20973a31e80>"
      ]
     },
     "metadata": {},
     "output_type": "display_data"
    }
   ],
   "source": [
    "# k means determine k\n",
    "distortions = []\n",
    "K = range(1,15)\n",
    "for k in K:\n",
    "    kmeanModel = KMeans(n_clusters=k).fit(X)\n",
    "    kmeanModel.fit(X)\n",
    "    distortions.append(sum(np.min(cdist(X, kmeanModel.cluster_centers_, 'euclidean'), axis=1)) / X.shape[0])\n",
    " \n",
    "# Plot the elbow\n",
    "plt.plot(K, distortions, 'bx-')\n",
    "plt.xlabel('k')\n",
    "plt.ylabel('Distortion')\n",
    "plt.title('The Elbow Method showing the optimal k')\n",
    "plt.show()"
   ]
  },
  {
   "cell_type": "code",
   "execution_count": 21,
   "metadata": {
    "collapsed": true
   },
   "outputs": [],
   "source": [
    "km = KMeans(n_clusters=3).fit(X)\n"
   ]
  }
 ],
 "metadata": {
  "kernelspec": {
   "display_name": "Python 3",
   "language": "python",
   "name": "python3"
  },
  "language_info": {
   "codemirror_mode": {
    "name": "ipython",
    "version": 3
   },
   "file_extension": ".py",
   "mimetype": "text/x-python",
   "name": "python",
   "nbconvert_exporter": "python",
   "pygments_lexer": "ipython3",
   "version": "3.6.0"
  }
 },
 "nbformat": 4,
 "nbformat_minor": 2
}
