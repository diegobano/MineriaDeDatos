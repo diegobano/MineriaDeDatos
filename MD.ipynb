{
 "cells": [
  {
   "cell_type": "code",
   "execution_count": 1,
   "metadata": {
    "collapsed": false
   },
   "outputs": [],
   "source": [
    "import matplotlib.pyplot as plt\n",
    "import numpy as np\n",
    "import pandas as pnd\n",
    "from sklearn import tree\n",
    "from sklearn.model_selection import cross_val_score\n",
    "from sklearn.cluster import KMeans\n",
    "from scipy.spatial.distance import cdist\n",
    "import pydotplus\n",
    "from sklearn.ensemble import RandomForestClassifier, RandomForestRegressor\n",
    "from sklearn.dummy import DummyClassifier, DummyRegressor"
   ]
  },
  {
   "cell_type": "code",
   "execution_count": 2,
   "metadata": {
    "collapsed": false
   },
   "outputs": [],
   "source": [
    "path = \"C:/Users/Diego/PycharmProjects/MD/\"\n",
    "\n",
    "carreras = pnd.read_excel(path + \"carreras2017.xlsx\")\n",
    "empleabilidad = pnd.read_excel(path + \"empleabilidadingresos2017.xlsx\")\n",
    "\n",
    "new_names_empleabilidad = empleabilidad.columns.values\n",
    "new_names_carreras = carreras.columns.values\n",
    "new_names_empleabilidad[1] = 'Nombre institución'\n",
    "\n",
    "for i in range(len(new_names_empleabilidad)):\n",
    "    new_names_empleabilidad[i] = new_names_empleabilidad[i].strip().lower().replace(\" \", \"_\").replace(\"á\", \"a\").replace(\"é\", \"e\").replace(\"í\", \"i\").replace(\"ó\", \"o\").replace(\"ú\",\"u\").replace(\"ñ\", \"n\")\n",
    "for i in range(len(new_names_carreras)):\n",
    "    new_names_carreras[i] = new_names_carreras[i].strip().lower().replace(\" \", \"_\").replace(\"á\", \"a\").replace(\"é\", \"e\").replace(\"í\", \"i\").replace(\"ó\", \"o\").replace(\"ú\",\"u\").replace(\"ñ\", \"n\")\n",
    "    \n",
    "empleabilidad.columns = new_names_empleabilidad\n",
    "carreras.columns = new_names_carreras\n",
    "\n",
    "carreras['nombre_institucion'] = carreras['nombre_institucion'].apply(lambda x: x.replace(\" \", \"_\").replace(\"á\", \"a\").replace(\"é\", \"e\").replace(\"í\", \"i\").replace(\"ó\", \"o\").replace(\"ú\",\"u\").replace(\"ñ\", \"n\").upper())\n",
    "carreras['nombre_carrera'] = carreras['nombre_carrera'].apply(lambda x: x.replace(\" \", \"_\").replace(\"á\", \"a\").replace(\"é\", \"e\").replace(\"í\", \"i\").replace(\"ó\", \"o\").replace(\"ú\",\"u\").replace(\"ñ\", \"n\").upper())\n",
    "\n",
    "carreras['id'] = carreras['nombre_institucion'] + '-' + carreras['nombre_carrera']\n",
    "\n",
    "# Quitar espacios y tildes, dejar todo en mayúscula\n",
    "empleabilidad['nombre_institucion'] = empleabilidad['nombre_institucion'].apply(lambda x: x.replace(\" \", \"_\").replace(\"á\", \"a\").replace(\"é\", \"e\").replace(\"í\", \"i\").replace(\"ó\", \"o\").replace(\"ú\",\"u\").replace(\"ñ\", \"n\").upper())\n",
    "empleabilidad['nombre_carrera'] = empleabilidad['nombre_carrera'].apply(lambda x: x.replace(\" \", \"_\").replace(\"á\", \"a\").replace(\"é\", \"e\").replace(\"í\", \"i\").replace(\"ó\", \"o\").replace(\"ú\",\"u\").replace(\"ñ\", \"n\").upper())\n",
    "\n",
    "empleabilidad['id'] = empleabilidad['nombre_institucion'] + '-' + empleabilidad['nombre_carrera']"
   ]
  },
  {
   "cell_type": "code",
   "execution_count": 3,
   "metadata": {
    "collapsed": false,
    "scrolled": false
   },
   "outputs": [
    {
     "name": "stdout",
     "output_type": "stream",
     "text": [
      "Atributos empleabilidad:\n",
      " Index(['tipo_de_institucion', 'nombre_institucion', 'area',\n",
      "       'acreditacion_de_la_institucion_(datos_al_5_de_dicimebre_de_2016)',\n",
      "       'nombre_carrera', '%_alumnos_de_establecimientos_subvencionados',\n",
      "       'retencion_1er_ano', 'duracion_real_(semestres)',\n",
      "       'empleabilidad_al_1er_ano', 'ingreso_promedio_al_4°_ano_de_titulacion',\n",
      "       'nombre_carrera_generica', 'ingreso_promedio_al_4°_ano', 'id'],\n",
      "      dtype='object')\n",
      "Atributos carreras:\n",
      " Index(['nombre_institucion', 'nombre_carrera', 'arancel_anual_2017',\n",
      "       'costo_de_titulacion', 'duracion_formal', 'nivel_carrera',\n",
      "       'matricula_1er_ano__femenina_2016', 'matricula_1er_ano_masculina_2016',\n",
      "       'matricula_1er_ano_2016', 'municipal', 'particular_subvencionado',\n",
      "       'particular_pagado', 'titulacion_femenina_2015',\n",
      "       'titlacion_masculna_2015', 'titulacion_total_2015',\n",
      "       'promedio_psu_2016_de_matricula_1er_ano_2016',\n",
      "       'promedio_nem_2016_de_matricula_2016', 'id'],\n",
      "      dtype='object')\n",
      "3486\n",
      "1641\n",
      "float64\n"
     ]
    }
   ],
   "source": [
    "print(\"Atributos empleabilidad:\\n\",empleabilidad.keys())\n",
    "print(\"Atributos carreras:\\n\", carreras.keys())\n",
    "\n",
    "print(len(carreras['id'].unique()))\n",
    "print(len(empleabilidad['id'].unique()))\n",
    "\n",
    "print(carreras['promedio_psu_2016_de_matricula_1er_ano_2016'].dtype)"
   ]
  },
  {
   "cell_type": "code",
   "execution_count": 4,
   "metadata": {
    "collapsed": false
   },
   "outputs": [
    {
     "name": "stdout",
     "output_type": "stream",
     "text": [
      "2891\n",
      "2891\n"
     ]
    }
   ],
   "source": [
    "filtrado = carreras[carreras['matricula_1er_ano_2016'] > 0]\n",
    "filtrado = filtrado.fillna(0)\n",
    "\n",
    "filtrado_empleabilidad = empleabilidad[empleabilidad['ingreso_promedio_al_4°_ano'] > 0]\n",
    "filtrado_empleabilidad = filtrado_empleabilidad.fillna(0)\n",
    "\n",
    "del filtrado['nombre_carrera']\n",
    "del filtrado['nombre_institucion']\n",
    "del filtrado_empleabilidad['nombre_carrera']\n",
    "del filtrado_empleabilidad['nombre_institucion']\n",
    "\n",
    "def acreditacion(valor):\n",
    "    if valor == 'No':\n",
    "        return 0\n",
    "    return int(valor[0])\n",
    "\n",
    "def sueldos(valor):\n",
    "    if 0 <= valor <= 650000:\n",
    "        return 0\n",
    "    elif 650000 < valor <= 950000:\n",
    "        return 1\n",
    "    elif 950000 < valor <= 1250000:\n",
    "        return 2\n",
    "    elif 1250000 < valor <= 1550000:\n",
    "        return 3\n",
    "    elif 1550000 < valor <= 1850000:\n",
    "        return 4\n",
    "    elif 1850000 < valor <= 2150000:\n",
    "        return 5\n",
    "    else:\n",
    "        return 6\n",
    "    \n",
    "def empleabilidad(valor):\n",
    "    if valor < 0.6:\n",
    "        return 0\n",
    "\n",
    "filtrado_empleabilidad['acreditacion_de_la_institucion_(datos_al_5_de_dicimebre_de_2016)'] = \\\n",
    "filtrado_empleabilidad['acreditacion_de_la_institucion_(datos_al_5_de_dicimebre_de_2016)'].apply(acreditacion)\n",
    "filtrado_empleabilidad['ingreso_promedio_al_4°_ano'] = filtrado_empleabilidad['ingreso_promedio_al_4°_ano'].apply(sueldos)\n",
    "\n",
    "filtrado_c = filtrado.copy()\n",
    "filtrado_empleabilidad_c = filtrado_empleabilidad.copy()\n",
    "\n",
    "llaves = filtrado.keys()\n",
    "for j in range(len(llaves)):\n",
    "    if filtrado[llaves[j]].dtype == 'int64' or filtrado[llaves[j]].dtype == 'float64':\n",
    "        continue\n",
    "    if llaves[j] in ['id']:\n",
    "        continue\n",
    "    values = filtrado[llaves[j]].unique()\n",
    "    dic = {}\n",
    "    for i in range(len(values)):\n",
    "        dic[values[i]] = i\n",
    "\n",
    "    filtrado[llaves[j]] = filtrado[llaves[j]].apply(lambda x: dic[x])\n",
    "    \n",
    "llaves = filtrado_empleabilidad.keys()\n",
    "for j in range(len(llaves)):\n",
    "    if filtrado_empleabilidad[llaves[j]].dtype == 'int64' or filtrado_empleabilidad[llaves[j]].dtype == 'float64':\n",
    "        continue\n",
    "    if llaves[j] in ['id']:\n",
    "        continue\n",
    "    values = filtrado_empleabilidad[llaves[j]].unique()\n",
    "    dic = {}\n",
    "    for i in range(len(values)):\n",
    "        dic[values[i]] = i\n",
    "\n",
    "    filtrado_empleabilidad[llaves[j]] = filtrado_empleabilidad[llaves[j]].apply(lambda x: dic[x])\n",
    "    \n",
    "# empleabilidad: acreditacion, tipo, area, del %weas, \n",
    "\n",
    "agrupado = filtrado.groupby(['id'])\n",
    "final = agrupado.agg({'arancel_anual_2017' : np.mean,\n",
    "                      'costo_de_titulacion' : np.mean,\n",
    "                      'duracion_formal' : np.mean,\n",
    "                      'matricula_1er_ano__femenina_2016' : np.sum,\n",
    "                      'matricula_1er_ano_masculina_2016' : np.sum,\n",
    "                      'matricula_1er_ano_2016' : np.sum,\n",
    "                      'titulacion_femenina_2015' : np.sum,\n",
    "                      'titlacion_masculna_2015' : np.sum,\n",
    "                      'titulacion_total_2015' : np.sum,\n",
    "                      'municipal' : np.mean,\n",
    "                      'particular_subvencionado' : np.mean,\n",
    "                      'particular_pagado' : np.mean,\n",
    "                      'promedio_psu_2016_de_matricula_1er_ano_2016' : np.mean,\n",
    "                      'promedio_nem_2016_de_matricula_2016' : np.mean,\n",
    "                      'nivel_carrera' : np.mean\n",
    "                     }).reset_index()\n",
    "print(len(filtrado['id'].unique()))\n",
    "print(len(final))"
   ]
  },
  {
   "cell_type": "code",
   "execution_count": 6,
   "metadata": {
    "collapsed": false
   },
   "outputs": [],
   "source": [
    "filtrado_c.to_excel(\"filtrado_carreras.xlsx\")\n",
    "filtrado_empleabilidad_c.to_excel(\"filtrado_empleabilidad.xlsx\")\n",
    "\n",
    "fusion_c = pnd.merge(filtrado_empleabilidad_c, filtrado_c, on='id', how='inner')\n",
    "\n",
    "fusion_c.to_excel(\"filtrado_fusion.xlsx\")"
   ]
  },
  {
   "cell_type": "code",
   "execution_count": 5,
   "metadata": {
    "collapsed": false
   },
   "outputs": [
    {
     "name": "stdout",
     "output_type": "stream",
     "text": [
      "[1 0]\n",
      "[3 0 6 4 5 7 2]\n"
     ]
    }
   ],
   "source": [
    "print(final['nivel_carrera'].unique())\n",
    "print(filtrado_empleabilidad['acreditacion_de_la_institucion_(datos_al_5_de_dicimebre_de_2016)'].unique())"
   ]
  },
  {
   "cell_type": "code",
   "execution_count": 25,
   "metadata": {
    "collapsed": false,
    "scrolled": true
   },
   "outputs": [
    {
     "name": "stdout",
     "output_type": "stream",
     "text": [
      "Index(['tipo_de_institucion', 'area',\n",
      "       'acreditacion_de_la_institucion_(datos_al_5_de_dicimebre_de_2016)',\n",
      "       '%_alumnos_de_establecimientos_subvencionados', 'retencion_1er_ano',\n",
      "       'duracion_real_(semestres)', 'empleabilidad_al_1er_ano',\n",
      "       'ingreso_promedio_al_4°_ano_de_titulacion', 'nombre_carrera_generica',\n",
      "       'ingreso_promedio_al_4°_ano', 'arancel_anual_2017',\n",
      "       'costo_de_titulacion', 'duracion_formal', 'nivel_carrera',\n",
      "       'matricula_1er_ano__femenina_2016', 'matricula_1er_ano_masculina_2016',\n",
      "       'matricula_1er_ano_2016', 'municipal', 'particular_subvencionado',\n",
      "       'particular_pagado', 'titulacion_femenina_2015',\n",
      "       'titlacion_masculna_2015', 'titulacion_total_2015',\n",
      "       'promedio_psu_2016_de_matricula_1er_ano_2016',\n",
      "       'promedio_nem_2016_de_matricula_2016'],\n",
      "      dtype='object')\n",
      "Index(['tipo_de_institucion', 'area',\n",
      "       'acreditacion_de_la_institucion_(datos_al_5_de_dicimebre_de_2016)',\n",
      "       '%_alumnos_de_establecimientos_subvencionados', 'retencion_1er_ano',\n",
      "       'duracion_real_(semestres)', 'nombre_carrera_generica',\n",
      "       'arancel_anual_2017', 'costo_de_titulacion', 'duracion_formal',\n",
      "       'nivel_carrera', 'matricula_1er_ano__femenina_2016',\n",
      "       'matricula_1er_ano_masculina_2016', 'matricula_1er_ano_2016',\n",
      "       'municipal', 'particular_subvencionado', 'particular_pagado',\n",
      "       'titulacion_femenina_2015', 'titlacion_masculna_2015',\n",
      "       'titulacion_total_2015', 'promedio_psu_2016_de_matricula_1er_ano_2016',\n",
      "       'promedio_nem_2016_de_matricula_2016'],\n",
      "      dtype='object')\n"
     ]
    }
   ],
   "source": [
    "fusion = pnd.merge(filtrado_empleabilidad, filtrado, on='id', how='inner')\n",
    "\n",
    "ag = fusion.groupby(['id'])\n",
    "ds = ag.first().copy()\n",
    "print(ds.keys())\n",
    "\n",
    "y = ds['ingreso_promedio_al_4°_ano']\n",
    "y2 = ds['empleabilidad_al_1er_ano']\n",
    "del ds['ingreso_promedio_al_4°_ano']\n",
    "del ds['ingreso_promedio_al_4°_ano_de_titulacion']\n",
    "del ds['empleabilidad_al_1er_ano']\n",
    "X = ds\n",
    "print(X.keys())"
   ]
  },
  {
   "cell_type": "code",
   "execution_count": 27,
   "metadata": {
    "collapsed": false
   },
   "outputs": [],
   "source": [
    "llaves = X.keys()\n",
    "\n",
    "for llave in llaves:\n",
    "    mini = min(X[llave])\n",
    "    maxi = max(X[llave])\n",
    "    X[llave] = (X[llave] - mini)/(maxi - mini)\n"
   ]
  },
  {
   "cell_type": "code",
   "execution_count": 28,
   "metadata": {
    "collapsed": false
   },
   "outputs": [
    {
     "name": "stdout",
     "output_type": "stream",
     "text": [
      "[ 0.77777778  0.11111111  0.22222222  0.33333333  0.          0.55555556\n",
      "  0.66666667  0.88888889  0.44444444  1.        ]\n"
     ]
    }
   ],
   "source": [
    "print(X['area'].unique())"
   ]
  },
  {
   "cell_type": "code",
   "execution_count": 29,
   "metadata": {
    "collapsed": false
   },
   "outputs": [
    {
     "data": {
      "text/plain": [
       "array([ 0.34868421,  0.52980132,  0.43333333,  0.45205479,  0.57931034])"
      ]
     },
     "execution_count": 29,
     "metadata": {},
     "output_type": "execute_result"
    }
   ],
   "source": [
    "clf = tree.DecisionTreeClassifier()\n",
    "\n",
    "cross_val_score(clf, X, y, cv=5)"
   ]
  },
  {
   "cell_type": "code",
   "execution_count": 28,
   "metadata": {
    "collapsed": false
   },
   "outputs": [
    {
     "data": {
      "text/plain": [
       "True"
      ]
     },
     "execution_count": 28,
     "metadata": {},
     "output_type": "execute_result"
    }
   ],
   "source": [
    "clf = clf.fit(X, y)\n",
    "\n",
    "dot_data = tree.export_graphviz(clf, out_file=None) \n",
    "graph = pydotplus.graph_from_dot_data(dot_data)\n",
    "\n",
    "graph.write_png('tree.png')"
   ]
  },
  {
   "cell_type": "code",
   "execution_count": 31,
   "metadata": {
    "collapsed": false,
    "scrolled": true
   },
   "outputs": [
    {
     "data": {
      "image/png": "[encoded data removed]",
      "text/plain": [
       "<matplotlib.figure.Figure at 0x2938d62fa20>"
      ]
     },
     "metadata": {},
     "output_type": "display_data"
    }
   ],
   "source": [
    "# k means determine k\n",
    "distortions = []\n",
    "K = range(1,50)\n",
    "for k in K:\n",
    "    kmeanModel = KMeans(n_clusters=k).fit(X)\n",
    "    kmeanModel.fit(X)\n",
    "    distortions.append(sum(np.min(cdist(X, kmeanModel.cluster_centers_, 'euclidean'), axis=1)) / X.shape[0])\n",
    " \n",
    "# Plot the elbow\n",
    "plt.plot(K, distortions, 'bx-')\n",
    "plt.xlabel('k')\n",
    "plt.ylabel('Distortion')\n",
    "plt.title('The Elbow Method showing the optimal k')\n",
    "plt.show()"
   ]
  },
  {
   "cell_type": "code",
   "execution_count": 32,
   "metadata": {
    "collapsed": false
   },
   "outputs": [
    {
     "name": "stdout",
     "output_type": "stream",
     "text": [
      "Random forest para ingresos:\n",
      "\n",
      "tipo_de_institucion : 0.00973863176989\n",
      "area : 0.0953559030718\n",
      "acreditacion_de_la_institucion_(datos_al_5_de_dicimebre_de_2016) : 0.0109802253173\n",
      "%_alumnos_de_establecimientos_subvencionados : 0.081200991569\n",
      "retencion_1er_ano : 0.0609742942136\n",
      "duracion_real_(semestres) : 0.0411576257343\n",
      "nombre_carrera_generica : 0.0719884620219\n",
      "arancel_anual_2017 : 0.0790510074534\n",
      "costo_de_titulacion : 0.0258148448704\n",
      "duracion_formal : 0.0501479165483\n",
      "nivel_carrera : 0.0027996540135\n",
      "matricula_1er_ano__femenina_2016 : 0.0367891272925\n",
      "matricula_1er_ano_masculina_2016 : 0.0769776936307\n",
      "matricula_1er_ano_2016 : 0.0493795956925\n",
      "municipal : 0.0359095363755\n",
      "particular_subvencionado : 0.0187915318869\n",
      "particular_pagado : 0.0414653465068\n",
      "titulacion_femenina_2015 : 0.0266341279549\n",
      "titlacion_masculna_2015 : 0.0369318464839\n",
      "titulacion_total_2015 : 0.0319100196008\n",
      "promedio_psu_2016_de_matricula_1er_ano_2016 : 0.0569268987873\n",
      "promedio_nem_2016_de_matricula_2016 : 0.0590747192046\n",
      "1.0\n",
      "\n",
      "Random forest para empleabilidad:\n",
      "\n",
      "tipo_de_institucion : 0.000727549693201\n",
      "area : 0.0888986192035\n",
      "acreditacion_de_la_institucion_(datos_al_5_de_dicimebre_de_2016) : 0.0103637021281\n",
      "%_alumnos_de_establecimientos_subvencionados : 0.051235323392\n",
      "retencion_1er_ano : 0.0192316163256\n",
      "duracion_real_(semestres) : 0.0393794492268\n",
      "nombre_carrera_generica : 0.0995246734016\n",
      "arancel_anual_2017 : 0.0249611680967\n",
      "costo_de_titulacion : 0.0257308340764\n",
      "duracion_formal : 0.119119157285\n",
      "nivel_carrera : 0.152151725689\n",
      "matricula_1er_ano__femenina_2016 : 0.0735118307986\n",
      "matricula_1er_ano_masculina_2016 : 0.0303636899096\n",
      "matricula_1er_ano_2016 : 0.0194560211358\n",
      "municipal : 0.0163950877506\n",
      "particular_subvencionado : 0.0427465984606\n",
      "particular_pagado : 0.0256014796749\n",
      "titulacion_femenina_2015 : 0.0233984505357\n",
      "titlacion_masculna_2015 : 0.0223488186444\n",
      "titulacion_total_2015 : 0.01275920922\n",
      "promedio_psu_2016_de_matricula_1er_ano_2016 : 0.0648361133141\n",
      "promedio_nem_2016_de_matricula_2016 : 0.0372588820382\n",
      "2.0\n"
     ]
    }
   ],
   "source": [
    "clf = RandomForestClassifier(criterion='entropy')\n",
    "clf.fit(X, y)\n",
    "print(\"Random forest para ingresos:\\n\")\n",
    "suma = 0\n",
    "for i in range(len(X.keys())):\n",
    "    print(X.keys()[i], ':', clf.feature_importances_[i])\n",
    "    suma += clf.feature_importances_[i]\n",
    "\n",
    "print(suma)\n",
    "clf2 = RandomForestRegressor(criterion='mse')\n",
    "clf2.fit(X, y2)\n",
    "\n",
    "suma=0\n",
    "print(\"\\nRandom forest para empleabilidad:\\n\")\n",
    "for i in range(len(X.keys())):\n",
    "    print(X.keys()[i], ':', clf2.feature_importances_[i])\n",
    "    suma += clf.feature_importances_[i]\n",
    "\n",
    "print(suma)\n"
   ]
  },
  {
   "cell_type": "code",
   "execution_count": 35,
   "metadata": {
    "collapsed": false
   },
   "outputs": [
    {
     "name": "stdout",
     "output_type": "stream",
     "text": [
      "Random forest ingresos: 0.580849472849 \n",
      "Dummy: 0.234040843631\n",
      "\n",
      "\n",
      "Random forest empleabilidad: 0.410390297856 \n",
      "Dummy: -0.17812623574\n"
     ]
    }
   ],
   "source": [
    "dummy = DummyClassifier()\n",
    "clf = RandomForestClassifier(criterion='entropy', n_estimators=200)\n",
    "print('Random forest ingresos:', np.mean(cross_val_score(clf, X, y, cv=10)), \"\\nDummy:\", np.mean(cross_val_score(dummy, X, y, cv=10)))\n",
    "print('\\n')\n",
    "dummy2 = DummyRegressor()\n",
    "clf2 = RandomForestRegressor(criterion='mse')\n",
    "print('Random forest empleabilidad:', np.mean(cross_val_score(clf2, X, y2, cv=10)), \"\\nDummy:\", np.mean(cross_val_score(dummy2, X, y2, cv=10)))"
   ]
  }
 ],
 "metadata": {
  "kernelspec": {
   "display_name": "Python 3",
   "language": "python",
   "name": "python3"
  },
  "language_info": {
   "codemirror_mode": {
    "name": "ipython",
    "version": 3
   },
   "file_extension": ".py",
   "mimetype": "text/x-python",
   "name": "python",
   "nbconvert_exporter": "python",
   "pygments_lexer": "ipython3",
   "version": "3.6.0"
  }
 },
 "nbformat": 4,
 "nbformat_minor": 2
}
